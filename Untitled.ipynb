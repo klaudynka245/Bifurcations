{
 "cells": [
  {
   "cell_type": "markdown",
   "id": "d030a767",
   "metadata": {},
   "source": [
    "#                                     MASZYNA ZEEMANA"
   ]
  },
  {
   "cell_type": "markdown",
   "id": "60ab5cec",
   "metadata": {},
   "source": [
    "### Wstęp"
   ]
  },
  {
   "cell_type": "markdown",
   "id": "fd160da2",
   "metadata": {},
   "source": [
    "Słowo katastrofa na ogół kojarzy nam się z czymś złym lub groźnym, z jakąś klęską. Jednak słowo to ma znaczenie szersze od potocznego. Przez katastrofę należy rozumieć gwałtowne, nagłe przejście badanego układu do nowego stanu. Zagotowanie wody w garnku albo likwidacja przedsiębiorstwa mogą być właśnie katastrofą. "
   ]
  },
  {
   "cell_type": "markdown",
   "id": "d7e955bd",
   "metadata": {},
   "source": [
    "### Wprowadzenie historyczno-teoretyczne"
   ]
  },
  {
   "cell_type": "markdown",
   "id": "846f0f24",
   "metadata": {},
   "source": [
    "Twórcą teorii katastrof jest francuski matematyk R. Thom. Opracował on ogólną metodę modelowania systemów, która wyjaśnia sposób powstawanie nieciągłych efektów z ciągłych przyczyn. Początkowo była ona wykorzystywania do opisu biologicznej morfogenezy, jednak stosunkowo szybko znalazła zastosowanie w innych dziedzinach nauki. Autorem wielu wzorcowych zastosowań teorii katastrof w nauce jest E.C. Zeeman. \n",
    "\n",
    "Teoria katastrof łączy w jeden spójny system pojęciowy dwa pozornie sprzeczne i niezwiązane z sobą rodzaje opisu zjawisk: ewolucyjność i rewolucyjność, ciągłość i nieciągłość. Pozwala na przedstawienie całkowitej drogi obiektu jako zmian ciągłych, które przerywane są nagłymi zmianami jakościowymi. W ten sposób teoria ta staje sie użytecznym narzędziem w badaniach strukturalnych.\n",
    "\n",
    "Zastosowanie teorii katastrof w danej dziedzinie nauki ma sens jedynie wtedy, gdy istnieją tam dobrze określone prawa naukowe. \n",
    "\n",
    "Teoria katastrof kładzie nacisk na pewne jakościowe cechy systemów: \n",
    "* Nieciągłość, która występuje, gdy zbiór zachowań systemu podzielony jest na jaościowo różne typy, a przeskoki między nimi pojawiają się na skutek ciągłych zmian w zbiorze przyczyn;\n",
    "* Dywergencję (rozbieżność) polegającą na tym, że duże zmiany w przestrzeni stanów danego systemu są wynikiem niewielkiej zmiany trajektorii w przestrzeni parametrów, a przejście nieciągłe (katastrofa) nie pojawia się;\n",
    "* Multimodalność oznaczającą, że badany układ ma więcej niż jeden stan równowagi stabilnej;\n",
    "* Niedostępność pewnych stanów systemu. Teoria katastrof opisuje stany najbardziej prawdopodobne, a pomija wszystkie inne\n",
    "\n"
   ]
  },
  {
   "cell_type": "markdown",
   "id": "17b52d49",
   "metadata": {},
   "source": [
    "### Maszyna Zeemana"
   ]
  },
  {
   "cell_type": "markdown",
   "id": "d2110ccd",
   "metadata": {},
   "source": [
    "Maszyna katastrofy imienia jej autora została wymyślona przez E.C. Zeemana w 1970 roku i miała pomóc mu zobrazować i zrozumieć fenomen katastrofy. Sama maszyna jest bardzo łatwa do zbudowania i może to zrobić każdy. \n",
    "\n",
    "Zasadniczą częścią maszyny jest położone na desce kółeczko, która może się swobodnie obracać dookoła swojego środka O. W punkcie B znajdującym się na brzegu kółeczka przytwierdzone są dwie gumki. Drugi koniec jednej z nich zostaje przymocowany na deseczce w punkcie A dostatecznie odległym od środka O w ten sposób, aby gumka AB była zawsze napięta. Do drugiego końca drugiej gumki (nazwijmy ją punktem C) jest przymocowany zaostrzony ołówek. Mała zmiana jego położenia daje nam \"katastrofę\" tj. skok kółeczka do nowego położenia. Jeżeli na deseczce zaznaczyć miejsca wszystkich \"katastrof\" to otrzymuje sie **krzywą katastrof**."
   ]
  },
  {
   "cell_type": "code",
   "execution_count": null,
   "id": "b8e613e0",
   "metadata": {},
   "outputs": [],
   "source": []
  },
  {
   "cell_type": "code",
   "execution_count": null,
   "id": "736f841a",
   "metadata": {},
   "outputs": [],
   "source": []
  },
  {
   "cell_type": "code",
   "execution_count": null,
   "id": "5c6a8ae4",
   "metadata": {},
   "outputs": [],
   "source": []
  },
  {
   "cell_type": "markdown",
   "id": "9c4dcedf",
   "metadata": {},
   "source": [
    "### Bibliografia"
   ]
  },
  {
   "cell_type": "markdown",
   "id": "27ca96c8",
   "metadata": {},
   "source": [
    "[1] "
   ]
  }
 ],
 "metadata": {
  "kernelspec": {
   "display_name": "Python 3 (ipykernel)",
   "language": "python",
   "name": "python3"
  },
  "language_info": {
   "codemirror_mode": {
    "name": "ipython",
    "version": 3
   },
   "file_extension": ".py",
   "mimetype": "text/x-python",
   "name": "python",
   "nbconvert_exporter": "python",
   "pygments_lexer": "ipython3",
   "version": "3.9.7"
  }
 },
 "nbformat": 4,
 "nbformat_minor": 5
}
