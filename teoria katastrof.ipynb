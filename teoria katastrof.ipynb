{
 "cells": [
  {
   "cell_type": "markdown",
   "id": "d030a767",
   "metadata": {},
   "source": [
    "# TEORIA KATASTROF"
   ]
  },
  {
   "cell_type": "markdown",
   "id": "60ab5cec",
   "metadata": {},
   "source": [
    "## Wstęp"
   ]
  },
  {
   "cell_type": "markdown",
   "id": "fd160da2",
   "metadata": {},
   "source": [
    "Słowo katastrofa na ogół kojarzy nam się z czymś złym lub groźnym. Jednak słowo to ma znaczenie szersze od potocznego. Przez katastrofę należy rozumieć gwałtowne, nagłe przejście badanego układu do nowego stanu. Katastrofą może być zagotowanie wody w garnku. "
   ]
  },
  {
   "cell_type": "markdown",
   "id": "d7e955bd",
   "metadata": {},
   "source": [
    "## Teoria katastrof "
   ]
  },
  {
   "cell_type": "markdown",
   "id": "846f0f24",
   "metadata": {},
   "source": [
    "Twórcą teorii katastrof jest francuski matematyk R. Thom. Z pomocą topologii opracował on ogólną metodę modelowania systemów. Dzięki temu odwołuje się on do geometrycznych intuicji. Wyjaśnia ona sposób powstawania nieciągłych efektów z ciągłych przyczyn. Stosunkowo szybko znalazła zastosowanie w różnych dziedzinach nauki. Autorem wielu ważnych zastosowań teorii katastrof w nauce jest E.C. Zeeman. "
   ]
  },
  {
   "cell_type": "markdown",
   "id": "e805e993",
   "metadata": {},
   "source": [
    "## Różne rodzaje katastrof"
   ]
  },
  {
   "cell_type": "markdown",
   "id": "5eadeeff",
   "metadata": {},
   "source": [
    "Teoria katastrof opisuje zmianę stanu zmiennej x względem czasu t: \n",
    "\n",
    "$$\n",
    "\\dot{x} = \\frac{dx}{dt} = - \\frac{dV(p,x)}{dx}\n",
    "$$\n",
    "\n",
    "V to funkcja potencjału, a p to skalar, który parametryzuje naszą funkcję. \n",
    "\n",
    "Zamiast p będziemy używać kolejnych liter alfabetu.\n",
    "\n",
    "**Punkty bifurkacyjne**, bo je właśnie będziemy badać, zgodnie ze słownikową definicją, to punkty, w którego otoczeniu własności modelu nie są jednakowe. "
   ]
  },
  {
   "cell_type": "markdown",
   "id": "8729fe49",
   "metadata": {},
   "source": [
    "### Fold catastrophe (katastrofa zakładkowa)"
   ]
  },
  {
   "cell_type": "markdown",
   "id": "0447a658",
   "metadata": {},
   "source": [
    "Katastrofa zakładkowa występuje dla funkcji z jedną zmienną i jednym parametrem. Funkcja potencjalna tej katastrofy ma postać:\n",
    "\n",
    "$$\n",
    "V = x^3+ax\n",
    "$$\n",
    "\n",
    "Interesują nas ekstrema ten funkcji zatem robimy wykres dla funkcji\n",
    "\n",
    "$$\n",
    "3x^2+ax=0\n",
    "$$"
   ]
  },
  {
   "cell_type": "code",
   "execution_count": 56,
   "id": "afb9beb3",
   "metadata": {},
   "outputs": [
    {
     "data": {
      "image/png": "[encoded data removed]",
      "text/plain": [
       "<Figure size 432x288 with 1 Axes>"
      ]
     },
     "metadata": {
      "needs_background": "light"
     },
     "output_type": "display_data"
    }
   ],
   "source": [
    "import matplotlib.pyplot as plt\n",
    "import numpy as np\n",
    "\n",
    "x = np.linspace(-10,10)\n",
    "plt.plot(-3*x**2,x)\n",
    "plt.plot(0,0,'o')\n",
    "plt.show()"
   ]
  },
  {
   "cell_type": "markdown",
   "id": "63a6647f",
   "metadata": {},
   "source": [
    "* dla a < 0 mamy ekstrema funkcji\n",
    "* dla a = 0 funkcja traci stabilność(!)\n",
    "* dla a > 0 nie mamy funkcji, a zatem zmienił się stan, czyli nastąpiła katastrofa\n",
    "\n",
    "Czyli a = 0 to **punkt bifurkacji**."
   ]
  },
  {
   "cell_type": "markdown",
   "id": "aca0eeb3",
   "metadata": {},
   "source": [
    "## Cusp catastrophe (katastrofa wierzchołkowa)"
   ]
  },
  {
   "cell_type": "code",
   "execution_count": null,
   "id": "3a53aecc",
   "metadata": {},
   "outputs": [],
   "source": []
  },
  {
   "cell_type": "code",
   "execution_count": null,
   "id": "30f7663d",
   "metadata": {},
   "outputs": [],
   "source": []
  },
  {
   "cell_type": "markdown",
   "id": "17b52d49",
   "metadata": {},
   "source": [
    "### Maszyna Zeemana"
   ]
  },
  {
   "cell_type": "markdown",
   "id": "d2110ccd",
   "metadata": {},
   "source": [
    "Maszyna katastrofy imienia jej autora została wymyślona przez E.C. Zeemana w 1970 roku i miała pomóc mu zobrazować i zrozumieć fenomen katastrofy. Sama maszyna jest bardzo łatwa do zbudowania i może to zrobić każdy. \n",
    "\n",
    "Zasadniczą częścią maszyny jest położone na desce kółeczko, która może się swobodnie obracać dookoła swojego środka O. W punkcie B znajdującym się na brzegu kółeczka przytwierdzone są dwie gumki. Drugi koniec jednej z nich zostaje przymocowany na deseczce w punkcie A dostatecznie odległym od środka O w ten sposób, aby gumka AB była zawsze napięta. Do drugiego końca drugiej gumki (nazwijmy ją punktem C) jest przymocowany zaostrzony ołówek. Mała zmiana jego położenia daje nam \"katastrofę\" tj. skok kółeczka do nowego położenia. Jeżeli na deseczce zaznaczyć miejsca wszystkich \"katastrof\" to otrzymuje sie **krzywą katastrof**."
   ]
  },
  {
   "cell_type": "code",
   "execution_count": null,
   "id": "b8e613e0",
   "metadata": {},
   "outputs": [],
   "source": []
  },
  {
   "cell_type": "code",
   "execution_count": null,
   "id": "736f841a",
   "metadata": {},
   "outputs": [],
   "source": []
  },
  {
   "cell_type": "code",
   "execution_count": null,
   "id": "5c6a8ae4",
   "metadata": {},
   "outputs": [],
   "source": []
  },
  {
   "cell_type": "markdown",
   "id": "9c4dcedf",
   "metadata": {},
   "source": [
    "### Bibliografia"
   ]
  },
  {
   "cell_type": "markdown",
   "id": "27ca96c8",
   "metadata": {},
   "source": [
    "[1] "
   ]
  }
 ],
 "metadata": {
  "kernelspec": {
   "display_name": "Python 3 (ipykernel)",
   "language": "python",
   "name": "python3"
  },
  "language_info": {
   "codemirror_mode": {
    "name": "ipython",
    "version": 3
   },
   "file_extension": ".py",
   "mimetype": "text/x-python",
   "name": "python",
   "nbconvert_exporter": "python",
   "pygments_lexer": "ipython3",
   "version": "3.9.7"
  }
 },
 "nbformat": 4,
 "nbformat_minor": 5
}
